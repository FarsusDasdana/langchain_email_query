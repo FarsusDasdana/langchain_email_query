{
  "nbformat": 4,
  "nbformat_minor": 0,
  "metadata": {
    "colab": {
      "provenance": [],
      "collapsed_sections": [
        "i4Kp1vvA2Ysk",
        "f4Z2egp32V7R",
        "wwTb7zmo2hPF"
      ]
    },
    "kernelspec": {
      "name": "python3",
      "display_name": "Python 3"
    },
    "language_info": {
      "name": "python"
    }
  },
  "cells": [
    {
      "cell_type": "markdown",
      "source": [
        "## Load Libs."
      ],
      "metadata": {
        "id": "i4Kp1vvA2Ysk"
      }
    },
    {
      "cell_type": "code",
      "source": [
        "!pip install langchain\n",
        "!pip install openai\n",
        "\n",
        "!pip install chromadb tiktoken\n",
        "!pip install unstructured[local-inference] tabulate"
      ],
      "metadata": {
        "id": "BfXdawcU1jKg"
      },
      "execution_count": null,
      "outputs": []
    },
    {
      "cell_type": "markdown",
      "source": [
        "after pip install step refress the session"
      ],
      "metadata": {
        "id": "-STU4aWY6TYx"
      }
    },
    {
      "cell_type": "code",
      "execution_count": null,
      "metadata": {
        "id": "XlAYYyaMwYfM"
      },
      "outputs": [],
      "source": [
        "import os\n",
        "\n",
        "import imaplib\n",
        "import email\n",
        "import getpass\n",
        "\n",
        "from langchain.llms import OpenAI\n",
        "from langchain.document_loaders import TextLoader\n",
        "from langchain.indexes import VectorstoreIndexCreator"
      ]
    },
    {
      "cell_type": "code",
      "source": [
        "# define OPENAI_API_KEY\n",
        "os.environ[\"OPENAI_API_KEY\"] = getpass.getpass()"
      ],
      "metadata": {
        "id": "RrLEmaV52qPD"
      },
      "execution_count": null,
      "outputs": []
    },
    {
      "cell_type": "markdown",
      "source": [
        "## Ask a Question"
      ],
      "metadata": {
        "id": "f4Z2egp32V7R"
      }
    },
    {
      "cell_type": "code",
      "source": [
        "llm = OpenAI(temperature=0.01) # temprature: [0, 2]\n",
        "\n",
        "text = \"What is name of a company that jumping cat on its logo?\"\n",
        "print(llm(text))"
      ],
      "metadata": {
        "colab": {
          "base_uri": "https://localhost:8080/"
        },
        "id": "fE4iKJvo2ViL",
        "outputId": "668d3e10-c48e-4efc-ede3-cfafc6dd7f26"
      },
      "execution_count": null,
      "outputs": [
        {
          "output_type": "stream",
          "name": "stdout",
          "text": [
            "\n",
            "\n",
            "The company is called Puma.\n"
          ]
        }
      ]
    },
    {
      "cell_type": "code",
      "source": [
        "llm = OpenAI(temperature=1.95) # temprature: [0, 2]\n",
        "\n",
        "text = \"What is name of a company that jumping cat on its logo?\"\n",
        "print(llm(text))"
      ],
      "metadata": {
        "colab": {
          "base_uri": "https://localhost:8080/"
        },
        "id": "JJCs7kMx3zHb",
        "outputId": "aa3ebed6-e3cd-43a9-d1e6-3565b07ec94d"
      },
      "execution_count": null,
      "outputs": [
        {
          "output_type": "stream",
          "name": "stdout",
          "text": [
            "\n",
            "\n",
            "Nat ionalwTMaaWIltK Gro renpt.ines .ess\n"
          ]
        }
      ]
    },
    {
      "cell_type": "markdown",
      "source": [
        "## Ask a Question Over a Text"
      ],
      "metadata": {
        "id": "wwTb7zmo2hPF"
      }
    },
    {
      "cell_type": "code",
      "source": [
        "# IMAP server credentials\n",
        "IMAP_SERVER = 'imap.gmail.com'\n",
        "USERNAME = input(\"e-mail: \")\n",
        "PASSWORD = getpass.getpass()\n",
        "\n",
        "# Connect to the IMAP server\n",
        "imap = imaplib.IMAP4_SSL(IMAP_SERVER)\n",
        "imap.login(USERNAME, PASSWORD)\n",
        "\n",
        "# Select the mailbox/folder containing the emails\n",
        "mailbox = 'INBOX'\n",
        "imap.select(mailbox)\n",
        "\n",
        "# Open a text file to save the emails\n",
        "output_file = open('all_emails.txt', 'w')\n",
        "\n",
        "# Search for all emails\n",
        "status, data = imap.search(None, 'ALL')\n",
        "# Iterate over the email IDs and fetch the last 50 email data\n",
        "for email_id in data[0].split()[-50:]:\n",
        "    status, email_data = imap.fetch(email_id, '(RFC822)')\n",
        "    raw_email = email_data[0][1]\n",
        "    try:\n",
        "        raw_email_string = raw_email.decode('utf-8')\n",
        "    except UnicodeDecodeError:\n",
        "        raw_email_string = raw_email.decode('latin-1')\n",
        "\n",
        "    # Parse the raw email string into an email object\n",
        "    email_message = email.message_from_string(raw_email_string)\n",
        "\n",
        "    # Extract desired email information\n",
        "    sender = email_message['From']\n",
        "    subject = email_message['Subject']\n",
        "    receiver = email_message[\"Delivered-To\"]\n",
        "    recieved_date = email_message['Received'].split('\\r\\n')[1]\n",
        "\n",
        "    # Extract email body (plaintext)\n",
        "    if email_message.is_multipart():\n",
        "        for part in email_message.walk():\n",
        "            if part.get_content_type() == 'text/plain':\n",
        "                try:\n",
        "                    body = part.get_payload(decode=True).decode('utf-8')\n",
        "                except UnicodeDecodeError:\n",
        "                    body = part.get_payload(decode=True).decode('latin-1')\n",
        "                break\n",
        "            else:\n",
        "              body = \"No text message!\"\n",
        "    else:\n",
        "        try:\n",
        "            body = email_message.get_payload(decode=True).decode('utf-8')\n",
        "        except UnicodeDecodeError:\n",
        "            body = email_message.get_payload(decode=True).decode('latin-1')\n",
        "\n",
        "    # Process or save the extracted email information as needed\n",
        "    output_file.write(f\"Sender: {sender}\\n\")\n",
        "    output_file.write(f\"Receiver: {receiver}\\n\")\n",
        "    output_file.write(f\"Recieved_Date: {recieved_date}\\n\")\n",
        "    output_file.write(f\"Subject: {subject}\\n\")\n",
        "    output_file.write(f\"Body: {body}\\n\")\n",
        "    output_file.write('\\n\\n')\n",
        "\n",
        "# Close the output file\n",
        "output_file.close()\n",
        "# Logout from the IMAP server\n",
        "imap.logout()"
      ],
      "metadata": {
        "id": "ZJ6WFj204voC"
      },
      "execution_count": null,
      "outputs": []
    },
    {
      "cell_type": "markdown",
      "source": [
        "### Simple Model"
      ],
      "metadata": {
        "id": "wcbKOnt9hXcj"
      }
    },
    {
      "cell_type": "code",
      "source": [
        "loader = TextLoader('/content/all_emails.txt')\n",
        "index = VectorstoreIndexCreator().from_loaders([loader])"
      ],
      "metadata": {
        "id": "kBbyDiB21eWv"
      },
      "execution_count": null,
      "outputs": []
    },
    {
      "cell_type": "code",
      "source": [
        "# query your index\n",
        "query = \"Who is the last message from?\"\n",
        "index.query(query)"
      ],
      "metadata": {
        "id": "cXVPR0BE4Rrn"
      },
      "execution_count": null,
      "outputs": []
    },
    {
      "cell_type": "markdown",
      "source": [
        "### Custom Model"
      ],
      "metadata": {
        "id": "RIkUuYEohc8d"
      }
    },
    {
      "cell_type": "code",
      "source": [
        "from langchain.chains import ConversationalRetrievalChain\n",
        "from langchain.chat_models import ChatOpenAI\n",
        "from langchain.document_loaders import DirectoryLoader\n",
        "from langchain.embeddings.openai import OpenAIEmbeddings\n",
        "from langchain.vectorstores import Chroma"
      ],
      "metadata": {
        "id": "lU0_MVIYLNxU"
      },
      "execution_count": null,
      "outputs": []
    },
    {
      "cell_type": "code",
      "source": [
        "def repeted_question(qa, question):\n",
        "    chat_history = []\n",
        "    while True:\n",
        "        result = qa({\"question\": question,\n",
        "                     \"chat_history\": chat_history})\n",
        "        chat_history.append((question, result['answer']))\n",
        "        print(f\"**Answer**: {result['answer']} \\n\")\n",
        "\n",
        "        another_question = input(\"Do you have another question? (If not say 'no'): \")\n",
        "        if another_question.lower() != \"no\":\n",
        "            question = another_question.copy()\n",
        "            break\n",
        "        else:\n",
        "            print(\"The conversation is over\")\n",
        "    return"
      ],
      "metadata": {
        "id": "d_6F1Aowiq3e"
      },
      "execution_count": null,
      "outputs": []
    },
    {
      "cell_type": "code",
      "source": [
        "# give path of document/documents\n",
        "loader = DirectoryLoader(\"/content/\", glob=\"*.txt\")\n",
        "txt_docs = loader.load_and_split()\n",
        "\n",
        "# prepare the text\n",
        "embeddings = OpenAIEmbeddings()\n",
        "txt_docsearch = Chroma.from_documents(txt_docs, embeddings)\n",
        "\n",
        "# define model and args.\n",
        "llm = ChatOpenAI(model_name=\"gpt-3.5-turbo\",\n",
        "                 temperature=0.5)\n",
        "qa = ConversationalRetrievalChain.from_llm(llm,\n",
        "                                           retriever=txt_docsearch.as_retriever())"
      ],
      "metadata": {
        "id": "P_bohxYVKybW"
      },
      "execution_count": null,
      "outputs": []
    },
    {
      "cell_type": "code",
      "source": [
        "# ask a question\n",
        "repeted_question(qa,\n",
        "                 \"What is the content of the message from Ahold?\")"
      ],
      "metadata": {
        "id": "ReH21xSRm9PY"
      },
      "execution_count": null,
      "outputs": []
    }
  ]
}